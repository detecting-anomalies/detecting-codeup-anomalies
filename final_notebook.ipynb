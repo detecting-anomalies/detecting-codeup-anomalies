{
 "cells": [
  {
   "cell_type": "markdown",
   "id": "6630c1d8",
   "metadata": {},
   "source": [
    "# Detecting Codeup Anomalies\n",
    "#### Data Scientists : Shawn Brown, Stephen Perry, Brandon Navarrete"
   ]
  },
  {
   "cell_type": "code",
   "execution_count": 3,
   "id": "03de654e",
   "metadata": {},
   "outputs": [],
   "source": [
    "# imports\n",
    "import pandas as pd \n",
    "import numpy as np \n",
    "\n",
    "# brandon's imports\n",
    "import brandons_wrangle as bw\n",
    "\n",
    "# shawn's imports\n",
    "import acquire as ac\n",
    "import prepare as prep\n",
    "\n",
    "# stephen's imports\n",
    "import sp\n",
    "\n",
    "import warnings\n",
    "warnings.filterwarnings('ignore')"
   ]
  },
  {
   "cell_type": "markdown",
   "id": "d363f93e",
   "metadata": {},
   "source": [
    "# 1. Which lesson appears to attract the most traffic consistently across cohorts (per program)?"
   ]
  },
  {
   "cell_type": "code",
   "execution_count": 4,
   "id": "d63315cc",
   "metadata": {},
   "outputs": [],
   "source": [
    "#acquiring and preparing my data\n",
    "df = ac.wrangle_codeup()"
   ]
  },
  {
   "cell_type": "code",
   "execution_count": 5,
   "id": "fed7bd84",
   "metadata": {},
   "outputs": [
    {
     "data": {
      "text/html": [
       "<div>\n",
       "<style scoped>\n",
       "    .dataframe tbody tr th:only-of-type {\n",
       "        vertical-align: middle;\n",
       "    }\n",
       "\n",
       "    .dataframe tbody tr th {\n",
       "        vertical-align: top;\n",
       "    }\n",
       "\n",
       "    .dataframe thead th {\n",
       "        text-align: right;\n",
       "    }\n",
       "</style>\n",
       "<table border=\"1\" class=\"dataframe\">\n",
       "  <thead>\n",
       "    <tr style=\"text-align: right;\">\n",
       "      <th></th>\n",
       "      <th>id</th>\n",
       "      <th>name</th>\n",
       "      <th>slack</th>\n",
       "      <th>start_date</th>\n",
       "      <th>end_date</th>\n",
       "      <th>created_at</th>\n",
       "      <th>updated_at</th>\n",
       "      <th>program_id</th>\n",
       "      <th>endpoint</th>\n",
       "      <th>user_id</th>\n",
       "      <th>cohort_id</th>\n",
       "      <th>ip</th>\n",
       "      <th>student</th>\n",
       "    </tr>\n",
       "    <tr>\n",
       "      <th>date_time</th>\n",
       "      <th></th>\n",
       "      <th></th>\n",
       "      <th></th>\n",
       "      <th></th>\n",
       "      <th></th>\n",
       "      <th></th>\n",
       "      <th></th>\n",
       "      <th></th>\n",
       "      <th></th>\n",
       "      <th></th>\n",
       "      <th></th>\n",
       "      <th></th>\n",
       "      <th></th>\n",
       "    </tr>\n",
       "  </thead>\n",
       "  <tbody>\n",
       "    <tr>\n",
       "      <th>2018-01-26 09:55:03</th>\n",
       "      <td>1.0</td>\n",
       "      <td>Arches</td>\n",
       "      <td>#arches</td>\n",
       "      <td>2014-02-04</td>\n",
       "      <td>2014-04-22</td>\n",
       "      <td>2016-06-14 19:52:26</td>\n",
       "      <td>2016-06-14 19:52:26</td>\n",
       "      <td>1.0</td>\n",
       "      <td>/</td>\n",
       "      <td>1</td>\n",
       "      <td>8.0</td>\n",
       "      <td>97.105.19.61</td>\n",
       "      <td>True</td>\n",
       "    </tr>\n",
       "    <tr>\n",
       "      <th>2018-01-26 09:56:02</th>\n",
       "      <td>1.0</td>\n",
       "      <td>Arches</td>\n",
       "      <td>#arches</td>\n",
       "      <td>2014-02-04</td>\n",
       "      <td>2014-04-22</td>\n",
       "      <td>2016-06-14 19:52:26</td>\n",
       "      <td>2016-06-14 19:52:26</td>\n",
       "      <td>1.0</td>\n",
       "      <td>java-ii</td>\n",
       "      <td>1</td>\n",
       "      <td>8.0</td>\n",
       "      <td>97.105.19.61</td>\n",
       "      <td>True</td>\n",
       "    </tr>\n",
       "    <tr>\n",
       "      <th>2018-01-26 09:56:05</th>\n",
       "      <td>1.0</td>\n",
       "      <td>Arches</td>\n",
       "      <td>#arches</td>\n",
       "      <td>2014-02-04</td>\n",
       "      <td>2014-04-22</td>\n",
       "      <td>2016-06-14 19:52:26</td>\n",
       "      <td>2016-06-14 19:52:26</td>\n",
       "      <td>1.0</td>\n",
       "      <td>java-ii/object-oriented-programming</td>\n",
       "      <td>1</td>\n",
       "      <td>8.0</td>\n",
       "      <td>97.105.19.61</td>\n",
       "      <td>True</td>\n",
       "    </tr>\n",
       "    <tr>\n",
       "      <th>2018-01-26 09:56:06</th>\n",
       "      <td>1.0</td>\n",
       "      <td>Arches</td>\n",
       "      <td>#arches</td>\n",
       "      <td>2014-02-04</td>\n",
       "      <td>2014-04-22</td>\n",
       "      <td>2016-06-14 19:52:26</td>\n",
       "      <td>2016-06-14 19:52:26</td>\n",
       "      <td>1.0</td>\n",
       "      <td>slides/object_oriented_programming</td>\n",
       "      <td>1</td>\n",
       "      <td>8.0</td>\n",
       "      <td>97.105.19.61</td>\n",
       "      <td>True</td>\n",
       "    </tr>\n",
       "    <tr>\n",
       "      <th>2018-01-26 09:56:24</th>\n",
       "      <td>2.0</td>\n",
       "      <td>Badlands</td>\n",
       "      <td>#badlands</td>\n",
       "      <td>2014-06-04</td>\n",
       "      <td>2014-08-22</td>\n",
       "      <td>2016-06-14 19:52:26</td>\n",
       "      <td>2016-06-14 19:52:26</td>\n",
       "      <td>1.0</td>\n",
       "      <td>javascript-i/conditionals</td>\n",
       "      <td>2</td>\n",
       "      <td>22.0</td>\n",
       "      <td>97.105.19.61</td>\n",
       "      <td>True</td>\n",
       "    </tr>\n",
       "  </tbody>\n",
       "</table>\n",
       "</div>"
      ],
      "text/plain": [
       "                      id      name      slack start_date   end_date  \\\n",
       "date_time                                                             \n",
       "2018-01-26 09:55:03  1.0    Arches    #arches 2014-02-04 2014-04-22   \n",
       "2018-01-26 09:56:02  1.0    Arches    #arches 2014-02-04 2014-04-22   \n",
       "2018-01-26 09:56:05  1.0    Arches    #arches 2014-02-04 2014-04-22   \n",
       "2018-01-26 09:56:06  1.0    Arches    #arches 2014-02-04 2014-04-22   \n",
       "2018-01-26 09:56:24  2.0  Badlands  #badlands 2014-06-04 2014-08-22   \n",
       "\n",
       "                             created_at          updated_at  program_id  \\\n",
       "date_time                                                                 \n",
       "2018-01-26 09:55:03 2016-06-14 19:52:26 2016-06-14 19:52:26         1.0   \n",
       "2018-01-26 09:56:02 2016-06-14 19:52:26 2016-06-14 19:52:26         1.0   \n",
       "2018-01-26 09:56:05 2016-06-14 19:52:26 2016-06-14 19:52:26         1.0   \n",
       "2018-01-26 09:56:06 2016-06-14 19:52:26 2016-06-14 19:52:26         1.0   \n",
       "2018-01-26 09:56:24 2016-06-14 19:52:26 2016-06-14 19:52:26         1.0   \n",
       "\n",
       "                                                endpoint  user_id  cohort_id  \\\n",
       "date_time                                                                      \n",
       "2018-01-26 09:55:03                                    /        1        8.0   \n",
       "2018-01-26 09:56:02                              java-ii        1        8.0   \n",
       "2018-01-26 09:56:05  java-ii/object-oriented-programming        1        8.0   \n",
       "2018-01-26 09:56:06   slides/object_oriented_programming        1        8.0   \n",
       "2018-01-26 09:56:24            javascript-i/conditionals        2       22.0   \n",
       "\n",
       "                               ip  student  \n",
       "date_time                                   \n",
       "2018-01-26 09:55:03  97.105.19.61     True  \n",
       "2018-01-26 09:56:02  97.105.19.61     True  \n",
       "2018-01-26 09:56:05  97.105.19.61     True  \n",
       "2018-01-26 09:56:06  97.105.19.61     True  \n",
       "2018-01-26 09:56:24  97.105.19.61     True  "
      ]
     },
     "execution_count": 5,
     "metadata": {},
     "output_type": "execute_result"
    }
   ],
   "source": [
    "#a quick look at the dataframe\n",
    "df.head()"
   ]
  },
  {
   "cell_type": "code",
   "execution_count": 6,
   "id": "6f2d02a6",
   "metadata": {},
   "outputs": [],
   "source": [
    "#getting the most frequently visited pages for each program\n",
    "program_1 = prep.student_df(df, 1.0)\n",
    "program_2 = prep.student_df(df, 2.0)\n",
    "program_3 = prep.student_df(df, 3.0)\n",
    "program_4 = prep.student_df(df, 4.0)"
   ]
  },
  {
   "cell_type": "code",
   "execution_count": 7,
   "id": "3e1db6e0",
   "metadata": {},
   "outputs": [
    {
     "data": {
      "text/html": [
       "<div>\n",
       "<style scoped>\n",
       "    .dataframe tbody tr th:only-of-type {\n",
       "        vertical-align: middle;\n",
       "    }\n",
       "\n",
       "    .dataframe tbody tr th {\n",
       "        vertical-align: top;\n",
       "    }\n",
       "\n",
       "    .dataframe thead th {\n",
       "        text-align: right;\n",
       "    }\n",
       "</style>\n",
       "<table border=\"1\" class=\"dataframe\">\n",
       "  <thead>\n",
       "    <tr style=\"text-align: right;\">\n",
       "      <th></th>\n",
       "      <th>endpoint</th>\n",
       "      <th>count</th>\n",
       "    </tr>\n",
       "    <tr>\n",
       "      <th>cohort_id</th>\n",
       "      <th></th>\n",
       "      <th></th>\n",
       "    </tr>\n",
       "  </thead>\n",
       "  <tbody>\n",
       "    <tr>\n",
       "      <th>1.0</th>\n",
       "      <td>javascript-i</td>\n",
       "      <td>150</td>\n",
       "    </tr>\n",
       "    <tr>\n",
       "      <th>1.0</th>\n",
       "      <td>html-css</td>\n",
       "      <td>104</td>\n",
       "    </tr>\n",
       "    <tr>\n",
       "      <th>8.0</th>\n",
       "      <td>java-iii</td>\n",
       "      <td>55</td>\n",
       "    </tr>\n",
       "    <tr>\n",
       "      <th>8.0</th>\n",
       "      <td>appendix</td>\n",
       "      <td>55</td>\n",
       "    </tr>\n",
       "    <tr>\n",
       "      <th>21.0</th>\n",
       "      <td>mkdocs/search_index.json</td>\n",
       "      <td>12</td>\n",
       "    </tr>\n",
       "    <tr>\n",
       "      <th>21.0</th>\n",
       "      <td>spring/fundamentals/views</td>\n",
       "      <td>11</td>\n",
       "    </tr>\n",
       "    <tr>\n",
       "      <th>22.0</th>\n",
       "      <td>java-iii</td>\n",
       "      <td>314</td>\n",
       "    </tr>\n",
       "    <tr>\n",
       "      <th>22.0</th>\n",
       "      <td>javascript-i</td>\n",
       "      <td>278</td>\n",
       "    </tr>\n",
       "    <tr>\n",
       "      <th>28.0</th>\n",
       "      <td>classification/overview</td>\n",
       "      <td>584</td>\n",
       "    </tr>\n",
       "    <tr>\n",
       "      <th>28.0</th>\n",
       "      <td>sql/mysql-overview</td>\n",
       "      <td>554</td>\n",
       "    </tr>\n",
       "  </tbody>\n",
       "</table>\n",
       "</div>"
      ],
      "text/plain": [
       "                            endpoint  count\n",
       "cohort_id                                  \n",
       "1.0                     javascript-i    150\n",
       "1.0                         html-css    104\n",
       "8.0                         java-iii     55\n",
       "8.0                         appendix     55\n",
       "21.0        mkdocs/search_index.json     12\n",
       "21.0       spring/fundamentals/views     11\n",
       "22.0                        java-iii    314\n",
       "22.0                    javascript-i    278\n",
       "28.0         classification/overview    584\n",
       "28.0              sql/mysql-overview    554"
      ]
     },
     "execution_count": 7,
     "metadata": {},
     "output_type": "execute_result"
    }
   ],
   "source": [
    "#getting the top three most frequently visited pages for program 1\n",
    "prep.Q_two(program_1)"
   ]
  },
  {
   "cell_type": "code",
   "execution_count": 8,
   "id": "c1a10979",
   "metadata": {},
   "outputs": [
    {
     "data": {
      "text/html": [
       "<div>\n",
       "<style scoped>\n",
       "    .dataframe tbody tr th:only-of-type {\n",
       "        vertical-align: middle;\n",
       "    }\n",
       "\n",
       "    .dataframe tbody tr th {\n",
       "        vertical-align: top;\n",
       "    }\n",
       "\n",
       "    .dataframe thead th {\n",
       "        text-align: right;\n",
       "    }\n",
       "</style>\n",
       "<table border=\"1\" class=\"dataframe\">\n",
       "  <thead>\n",
       "    <tr style=\"text-align: right;\">\n",
       "      <th></th>\n",
       "      <th>endpoint</th>\n",
       "      <th>count</th>\n",
       "    </tr>\n",
       "    <tr>\n",
       "      <th>cohort_id</th>\n",
       "      <th></th>\n",
       "      <th></th>\n",
       "    </tr>\n",
       "  </thead>\n",
       "  <tbody>\n",
       "    <tr>\n",
       "      <th>1.0</th>\n",
       "      <td>javascript-i/introduction/working-with-data-ty...</td>\n",
       "      <td>12</td>\n",
       "    </tr>\n",
       "    <tr>\n",
       "      <th>1.0</th>\n",
       "      <td>javascript-i/javascript-with-html</td>\n",
       "      <td>12</td>\n",
       "    </tr>\n",
       "    <tr>\n",
       "      <th>13.0</th>\n",
       "      <td>content/html-css</td>\n",
       "      <td>17</td>\n",
       "    </tr>\n",
       "    <tr>\n",
       "      <th>13.0</th>\n",
       "      <td>content/javascript</td>\n",
       "      <td>22</td>\n",
       "    </tr>\n",
       "    <tr>\n",
       "      <th>14.0</th>\n",
       "      <td>index.html</td>\n",
       "      <td>868</td>\n",
       "    </tr>\n",
       "    <tr>\n",
       "      <th>14.0</th>\n",
       "      <td>javascript-i</td>\n",
       "      <td>227</td>\n",
       "    </tr>\n",
       "    <tr>\n",
       "      <th>16.0</th>\n",
       "      <td>index.html</td>\n",
       "      <td>16</td>\n",
       "    </tr>\n",
       "    <tr>\n",
       "      <th>16.0</th>\n",
       "      <td>spring</td>\n",
       "      <td>10</td>\n",
       "    </tr>\n",
       "    <tr>\n",
       "      <th>18.0</th>\n",
       "      <td>javascript-ii</td>\n",
       "      <td>21</td>\n",
       "    </tr>\n",
       "    <tr>\n",
       "      <th>18.0</th>\n",
       "      <td>javascript-i</td>\n",
       "      <td>17</td>\n",
       "    </tr>\n",
       "    <tr>\n",
       "      <th>21.0</th>\n",
       "      <td>spring</td>\n",
       "      <td>150</td>\n",
       "    </tr>\n",
       "    <tr>\n",
       "      <th>21.0</th>\n",
       "      <td>mkdocs/search_index.json</td>\n",
       "      <td>105</td>\n",
       "    </tr>\n",
       "    <tr>\n",
       "      <th>22.0</th>\n",
       "      <td>spring</td>\n",
       "      <td>202</td>\n",
       "    </tr>\n",
       "    <tr>\n",
       "      <th>22.0</th>\n",
       "      <td>mkdocs/search_index.json</td>\n",
       "      <td>210</td>\n",
       "    </tr>\n",
       "    <tr>\n",
       "      <th>23.0</th>\n",
       "      <td>mkdocs/search_index.json</td>\n",
       "      <td>121</td>\n",
       "    </tr>\n",
       "    <tr>\n",
       "      <th>23.0</th>\n",
       "      <td>java-iii</td>\n",
       "      <td>113</td>\n",
       "    </tr>\n",
       "    <tr>\n",
       "      <th>28.0</th>\n",
       "      <td>javascript-i</td>\n",
       "      <td>153</td>\n",
       "    </tr>\n",
       "    <tr>\n",
       "      <th>28.0</th>\n",
       "      <td>index.html</td>\n",
       "      <td>609</td>\n",
       "    </tr>\n",
       "  </tbody>\n",
       "</table>\n",
       "</div>"
      ],
      "text/plain": [
       "                                                    endpoint  count\n",
       "cohort_id                                                          \n",
       "1.0        javascript-i/introduction/working-with-data-ty...     12\n",
       "1.0                        javascript-i/javascript-with-html     12\n",
       "13.0                                        content/html-css     17\n",
       "13.0                                      content/javascript     22\n",
       "14.0                                              index.html    868\n",
       "14.0                                            javascript-i    227\n",
       "16.0                                              index.html     16\n",
       "16.0                                                  spring     10\n",
       "18.0                                           javascript-ii     21\n",
       "18.0                                            javascript-i     17\n",
       "21.0                                                  spring    150\n",
       "21.0                                mkdocs/search_index.json    105\n",
       "22.0                                                  spring    202\n",
       "22.0                                mkdocs/search_index.json    210\n",
       "23.0                                mkdocs/search_index.json    121\n",
       "23.0                                                java-iii    113\n",
       "28.0                                            javascript-i    153\n",
       "28.0                                              index.html    609"
      ]
     },
     "execution_count": 8,
     "metadata": {},
     "output_type": "execute_result"
    }
   ],
   "source": [
    "#getting the top three most frequently visited pages for program 2\n",
    "prep.Q_two(program_2)"
   ]
  },
  {
   "cell_type": "code",
   "execution_count": 9,
   "id": "974a09da",
   "metadata": {},
   "outputs": [
    {
     "data": {
      "text/html": [
       "<div>\n",
       "<style scoped>\n",
       "    .dataframe tbody tr th:only-of-type {\n",
       "        vertical-align: middle;\n",
       "    }\n",
       "\n",
       "    .dataframe tbody tr th {\n",
       "        vertical-align: top;\n",
       "    }\n",
       "\n",
       "    .dataframe thead th {\n",
       "        text-align: right;\n",
       "    }\n",
       "</style>\n",
       "<table border=\"1\" class=\"dataframe\">\n",
       "  <thead>\n",
       "    <tr style=\"text-align: right;\">\n",
       "      <th></th>\n",
       "      <th>endpoint</th>\n",
       "      <th>count</th>\n",
       "    </tr>\n",
       "    <tr>\n",
       "      <th>cohort_id</th>\n",
       "      <th></th>\n",
       "      <th></th>\n",
       "    </tr>\n",
       "  </thead>\n",
       "  <tbody>\n",
       "    <tr>\n",
       "      <th>21.0</th>\n",
       "      <td>spring/fundamentals/security/authentication</td>\n",
       "      <td>9</td>\n",
       "    </tr>\n",
       "    <tr>\n",
       "      <th>21.0</th>\n",
       "      <td>spring/fundamentals/views</td>\n",
       "      <td>8</td>\n",
       "    </tr>\n",
       "    <tr>\n",
       "      <th>22.0</th>\n",
       "      <td>appendix</td>\n",
       "      <td>112</td>\n",
       "    </tr>\n",
       "    <tr>\n",
       "      <th>22.0</th>\n",
       "      <td>mkdocs/search_index.json</td>\n",
       "      <td>96</td>\n",
       "    </tr>\n",
       "    <tr>\n",
       "      <th>23.0</th>\n",
       "      <td>html-css/css-ii/media-queries</td>\n",
       "      <td>32</td>\n",
       "    </tr>\n",
       "    <tr>\n",
       "      <th>23.0</th>\n",
       "      <td>html-css/css-i/selectors-and-properties</td>\n",
       "      <td>31</td>\n",
       "    </tr>\n",
       "  </tbody>\n",
       "</table>\n",
       "</div>"
      ],
      "text/plain": [
       "                                              endpoint  count\n",
       "cohort_id                                                    \n",
       "21.0       spring/fundamentals/security/authentication      9\n",
       "21.0                         spring/fundamentals/views      8\n",
       "22.0                                          appendix    112\n",
       "22.0                          mkdocs/search_index.json     96\n",
       "23.0                     html-css/css-ii/media-queries     32\n",
       "23.0           html-css/css-i/selectors-and-properties     31"
      ]
     },
     "execution_count": 9,
     "metadata": {},
     "output_type": "execute_result"
    }
   ],
   "source": [
    "#getting the top three most frequently visited pages for program 3\n",
    "prep.Q_two(program_3)"
   ]
  },
  {
   "cell_type": "code",
   "execution_count": 10,
   "id": "60468419",
   "metadata": {},
   "outputs": [
    {
     "data": {
      "text/html": [
       "<div>\n",
       "<style scoped>\n",
       "    .dataframe tbody tr th:only-of-type {\n",
       "        vertical-align: middle;\n",
       "    }\n",
       "\n",
       "    .dataframe tbody tr th {\n",
       "        vertical-align: top;\n",
       "    }\n",
       "\n",
       "    .dataframe thead th {\n",
       "        text-align: right;\n",
       "    }\n",
       "</style>\n",
       "<table border=\"1\" class=\"dataframe\">\n",
       "  <thead>\n",
       "    <tr style=\"text-align: right;\">\n",
       "      <th></th>\n",
       "      <th>endpoint</th>\n",
       "      <th>count</th>\n",
       "    </tr>\n",
       "    <tr>\n",
       "      <th>cohort_id</th>\n",
       "      <th></th>\n",
       "      <th></th>\n",
       "    </tr>\n",
       "  </thead>\n",
       "  <tbody>\n",
       "    <tr>\n",
       "      <th>21.0</th>\n",
       "      <td>spring</td>\n",
       "      <td>54</td>\n",
       "    </tr>\n",
       "    <tr>\n",
       "      <th>21.0</th>\n",
       "      <td>java-i</td>\n",
       "      <td>29</td>\n",
       "    </tr>\n",
       "    <tr>\n",
       "      <th>22.0</th>\n",
       "      <td>jquery</td>\n",
       "      <td>19</td>\n",
       "    </tr>\n",
       "    <tr>\n",
       "      <th>22.0</th>\n",
       "      <td>javascript-i</td>\n",
       "      <td>17</td>\n",
       "    </tr>\n",
       "  </tbody>\n",
       "</table>\n",
       "</div>"
      ],
      "text/plain": [
       "               endpoint  count\n",
       "cohort_id                     \n",
       "21.0             spring     54\n",
       "21.0             java-i     29\n",
       "22.0             jquery     19\n",
       "22.0       javascript-i     17"
      ]
     },
     "execution_count": 10,
     "metadata": {},
     "output_type": "execute_result"
    }
   ],
   "source": [
    "#getting the top three most frequently visited pages for program 4\n",
    "prep.Q_two(program_4)"
   ]
  },
  {
   "cell_type": "markdown",
   "id": "1da3eb99",
   "metadata": {},
   "source": [
    "<div class=\"alert alert-block alert-success\">\n",
    "<b>For each program:</b>\n",
    "\n",
    "* Program 1: javascript-i is the most consistently viewed topic\n",
    "\n",
    "* Program 2: javascript-i is the most consistently viewed topic\n",
    "\n",
    "* Program 3: css is the most consistently viewed topic\n",
    "\n",
    "* Program 4: javascript is the most consistently viewed topic\n",
    "\n",
    "</div>"
   ]
  },
  {
   "cell_type": "markdown",
   "id": "6ec85aca",
   "metadata": {},
   "source": [
    "# 2. Is there a cohort that referred to a lesson significantly more than other cohorts seemed to gloss over?"
   ]
  },
  {
   "cell_type": "code",
   "execution_count": 11,
   "id": "e4f4bdb3",
   "metadata": {},
   "outputs": [
    {
     "ename": "KeyError",
     "evalue": "'date'",
     "output_type": "error",
     "traceback": [
      "\u001b[0;31m---------------------------------------------------------------------------\u001b[0m",
      "\u001b[0;31mKeyError\u001b[0m                                  Traceback (most recent call last)",
      "File \u001b[0;32m/opt/homebrew/anaconda3/lib/python3.9/site-packages/pandas/core/indexes/base.py:3629\u001b[0m, in \u001b[0;36mIndex.get_loc\u001b[0;34m(self, key, method, tolerance)\u001b[0m\n\u001b[1;32m   3628\u001b[0m \u001b[39mtry\u001b[39;00m:\n\u001b[0;32m-> 3629\u001b[0m     \u001b[39mreturn\u001b[39;00m \u001b[39mself\u001b[39;49m\u001b[39m.\u001b[39;49m_engine\u001b[39m.\u001b[39;49mget_loc(casted_key)\n\u001b[1;32m   3630\u001b[0m \u001b[39mexcept\u001b[39;00m \u001b[39mKeyError\u001b[39;00m \u001b[39mas\u001b[39;00m err:\n",
      "File \u001b[0;32m/opt/homebrew/anaconda3/lib/python3.9/site-packages/pandas/_libs/index.pyx:136\u001b[0m, in \u001b[0;36mpandas._libs.index.IndexEngine.get_loc\u001b[0;34m()\u001b[0m\n",
      "File \u001b[0;32m/opt/homebrew/anaconda3/lib/python3.9/site-packages/pandas/_libs/index.pyx:163\u001b[0m, in \u001b[0;36mpandas._libs.index.IndexEngine.get_loc\u001b[0;34m()\u001b[0m\n",
      "File \u001b[0;32mpandas/_libs/hashtable_class_helper.pxi:5198\u001b[0m, in \u001b[0;36mpandas._libs.hashtable.PyObjectHashTable.get_item\u001b[0;34m()\u001b[0m\n",
      "File \u001b[0;32mpandas/_libs/hashtable_class_helper.pxi:5206\u001b[0m, in \u001b[0;36mpandas._libs.hashtable.PyObjectHashTable.get_item\u001b[0;34m()\u001b[0m\n",
      "\u001b[0;31mKeyError\u001b[0m: 'date'",
      "\nThe above exception was the direct cause of the following exception:\n",
      "\u001b[0;31mKeyError\u001b[0m                                  Traceback (most recent call last)",
      "\u001b[1;32m/Users/yogibexar/codeup-data-science/detecting-codeup-anomalies/final_notebook.ipynb Cell 13\u001b[0m in \u001b[0;36m<cell line: 1>\u001b[0;34m()\u001b[0m\n\u001b[0;32m----> <a href='vscode-notebook-cell:/Users/yogibexar/codeup-data-science/detecting-codeup-anomalies/final_notebook.ipynb#X55sZmlsZQ%3D%3D?line=0'>1</a>\u001b[0m sp\u001b[39m.\u001b[39;49mdata_science_curriculum_access(df)\n",
      "File \u001b[0;32m~/codeup-data-science/detecting-codeup-anomalies/sp.py:102\u001b[0m, in \u001b[0;36mdata_science_curriculum_access\u001b[0;34m(df)\u001b[0m\n\u001b[1;32m    100\u001b[0m \u001b[39mdef\u001b[39;00m \u001b[39mdata_science_curriculum_access\u001b[39m(df):\n\u001b[1;32m    101\u001b[0m     datsci_df, webdev_df \u001b[39m=\u001b[39m seperate_programs(df)\n\u001b[0;32m--> 102\u001b[0m     datsci_df \u001b[39m=\u001b[39m wrangle_resample_program(datsci_df, \u001b[39m'\u001b[39;49m\u001b[39mD\u001b[39;49m\u001b[39m'\u001b[39;49m)\n\u001b[1;32m    103\u001b[0m     datsci_boll \u001b[39m=\u001b[39m compute_bollinger(datsci_df, \u001b[39m'\u001b[39m\u001b[39mpath\u001b[39m\u001b[39m'\u001b[39m, \u001b[39m7\u001b[39m, \u001b[39m1.0\u001b[39m)\n\u001b[1;32m    104\u001b[0m     datsci_boll\u001b[39m.\u001b[39mplot()\n",
      "File \u001b[0;32m~/codeup-data-science/detecting-codeup-anomalies/sp.py:83\u001b[0m, in \u001b[0;36mwrangle_resample_program\u001b[0;34m(program, time)\u001b[0m\n\u001b[1;32m     78\u001b[0m \u001b[39mdef\u001b[39;00m \u001b[39mwrangle_resample_program\u001b[39m (program, time):\n\u001b[1;32m     79\u001b[0m     \u001b[39m'''\u001b[39;00m\n\u001b[1;32m     80\u001b[0m \u001b[39m    run this after running seperate_programs\u001b[39;00m\n\u001b[1;32m     81\u001b[0m \u001b[39m    this takes in either datsci_df or webdev_df and drops columns\u001b[39;00m\n\u001b[1;32m     82\u001b[0m \u001b[39m    '''\u001b[39;00m\n\u001b[0;32m---> 83\u001b[0m     program[\u001b[39m'\u001b[39m\u001b[39mdate\u001b[39m\u001b[39m'\u001b[39m] \u001b[39m=\u001b[39m pd\u001b[39m.\u001b[39mto_datetime(program[\u001b[39m'\u001b[39;49m\u001b[39mdate\u001b[39;49m\u001b[39m'\u001b[39;49m], infer_datetime_format\u001b[39m=\u001b[39m\u001b[39mTrue\u001b[39;00m)\n\u001b[1;32m     84\u001b[0m     program \u001b[39m=\u001b[39m program\u001b[39m.\u001b[39mset_index(\u001b[39m'\u001b[39m\u001b[39mdate\u001b[39m\u001b[39m'\u001b[39m)\n\u001b[1;32m     85\u001b[0m     program \u001b[39m=\u001b[39m program\u001b[39m.\u001b[39mdrop(columns\u001b[39m=\u001b[39m [\u001b[39m'\u001b[39m\u001b[39mname\u001b[39m\u001b[39m'\u001b[39m, \u001b[39m'\u001b[39m\u001b[39mslack\u001b[39m\u001b[39m'\u001b[39m, \u001b[39m'\u001b[39m\u001b[39mdeleted_at\u001b[39m\u001b[39m'\u001b[39m])\n",
      "File \u001b[0;32m/opt/homebrew/anaconda3/lib/python3.9/site-packages/pandas/core/frame.py:3505\u001b[0m, in \u001b[0;36mDataFrame.__getitem__\u001b[0;34m(self, key)\u001b[0m\n\u001b[1;32m   3503\u001b[0m \u001b[39mif\u001b[39;00m \u001b[39mself\u001b[39m\u001b[39m.\u001b[39mcolumns\u001b[39m.\u001b[39mnlevels \u001b[39m>\u001b[39m \u001b[39m1\u001b[39m:\n\u001b[1;32m   3504\u001b[0m     \u001b[39mreturn\u001b[39;00m \u001b[39mself\u001b[39m\u001b[39m.\u001b[39m_getitem_multilevel(key)\n\u001b[0;32m-> 3505\u001b[0m indexer \u001b[39m=\u001b[39m \u001b[39mself\u001b[39;49m\u001b[39m.\u001b[39;49mcolumns\u001b[39m.\u001b[39;49mget_loc(key)\n\u001b[1;32m   3506\u001b[0m \u001b[39mif\u001b[39;00m is_integer(indexer):\n\u001b[1;32m   3507\u001b[0m     indexer \u001b[39m=\u001b[39m [indexer]\n",
      "File \u001b[0;32m/opt/homebrew/anaconda3/lib/python3.9/site-packages/pandas/core/indexes/base.py:3631\u001b[0m, in \u001b[0;36mIndex.get_loc\u001b[0;34m(self, key, method, tolerance)\u001b[0m\n\u001b[1;32m   3629\u001b[0m     \u001b[39mreturn\u001b[39;00m \u001b[39mself\u001b[39m\u001b[39m.\u001b[39m_engine\u001b[39m.\u001b[39mget_loc(casted_key)\n\u001b[1;32m   3630\u001b[0m \u001b[39mexcept\u001b[39;00m \u001b[39mKeyError\u001b[39;00m \u001b[39mas\u001b[39;00m err:\n\u001b[0;32m-> 3631\u001b[0m     \u001b[39mraise\u001b[39;00m \u001b[39mKeyError\u001b[39;00m(key) \u001b[39mfrom\u001b[39;00m \u001b[39merr\u001b[39;00m\n\u001b[1;32m   3632\u001b[0m \u001b[39mexcept\u001b[39;00m \u001b[39mTypeError\u001b[39;00m:\n\u001b[1;32m   3633\u001b[0m     \u001b[39m# If we have a listlike key, _check_indexing_error will raise\u001b[39;00m\n\u001b[1;32m   3634\u001b[0m     \u001b[39m#  InvalidIndexError. Otherwise we fall through and re-raise\u001b[39;00m\n\u001b[1;32m   3635\u001b[0m     \u001b[39m#  the TypeError.\u001b[39;00m\n\u001b[1;32m   3636\u001b[0m     \u001b[39mself\u001b[39m\u001b[39m.\u001b[39m_check_indexing_error(key)\n",
      "\u001b[0;31mKeyError\u001b[0m: 'date'"
     ]
    }
   ],
   "source": [
    "sp.data_science_curriculum_access(df)"
   ]
  },
  {
   "cell_type": "code",
   "execution_count": null,
   "id": "9490a2b2",
   "metadata": {},
   "outputs": [],
   "source": []
  },
  {
   "cell_type": "markdown",
   "id": "1011d71f",
   "metadata": {},
   "source": [
    "<div class=\"alert alert-block alert-success\">\n",
    "<b>Takeaways:</b>\n",
    "\n",
    "\n",
    "</div>"
   ]
  },
  {
   "cell_type": "markdown",
   "id": "0a37491b",
   "metadata": {},
   "source": [
    "# 3. Are there students who, when active, hardly access the curriculum? If so, what information do you have about these students?"
   ]
  },
  {
   "cell_type": "code",
   "execution_count": null,
   "id": "2b00109a",
   "metadata": {},
   "outputs": [],
   "source": [
    "# Import Brandon's Data\n",
    "navdf = bw.get_logs_data(bw.get_connection)"
   ]
  },
  {
   "cell_type": "code",
   "execution_count": null,
   "id": "80234bc8",
   "metadata": {},
   "outputs": [],
   "source": [
    "# Prep Brandon's Data, get clean data, student data, and specific student info.\n",
    "navdf, students, page_views_per_student ,student_info = bw.prepare(navdf)"
   ]
  },
  {
   "cell_type": "code",
   "execution_count": null,
   "id": "2aeb187e",
   "metadata": {},
   "outputs": [],
   "source": [
    "page_views_per_student.sort_values(by = 'pages_accessed').head(3)"
   ]
  },
  {
   "cell_type": "code",
   "execution_count": null,
   "id": "b47171d6",
   "metadata": {},
   "outputs": [],
   "source": [
    "# take a peak at student 62\n",
    "student_info"
   ]
  },
  {
   "cell_type": "markdown",
   "id": "c54591fc",
   "metadata": {},
   "source": [
    "<div class=\"alert alert-block alert-success\">\n",
    "<b>Takeaways on student 62:</b>\n",
    "\n",
    "* This student started on 2020-09-21 and ended on 2021-03-30, about 6 months.\n",
    "* They accessed the pages in 2018, all within an hour of each other, before they started at Codeup\n",
    "* Was in the the Jupiter cohort\n",
    "* This student was in web Dev and only accessed the Codeup page 4 times. Once on the home page, the java-ii ,java-iii, and spring.\n",
    "* All ip's trace back to San Antonio, Tx\n",
    "\n",
    "</div>"
   ]
  },
  {
   "cell_type": "markdown",
   "id": "1531c4aa",
   "metadata": {},
   "source": [
    "# 4. Is there any suspicious activity, such as users/machines/etc accessing the curriculum who shouldn’t be? Does it appear that any web-scraping is happening? Are there any suspicious IP addresses?"
   ]
  },
  {
   "cell_type": "code",
   "execution_count": null,
   "id": "3bc580e3",
   "metadata": {},
   "outputs": [],
   "source": [
    "# tells us how many staff members have been using the website, and returns a dataframe of everything they accessed\n",
    "staff = ac.check_staff(df)\n",
    "# a peek at the dataframe\n",
    "staff.head(1)"
   ]
  },
  {
   "cell_type": "code",
   "execution_count": null,
   "id": "ce4f5a0b",
   "metadata": {},
   "outputs": [],
   "source": [
    "#returns two dataframes, one of the non students who werent just looking at the homepage, \n",
    "#and another that is a set of date_times and the number of pages accessed in that timestamp\n",
    "df_2, df_abnormal = prep.web_scraping(df)"
   ]
  },
  {
   "cell_type": "code",
   "execution_count": null,
   "id": "eaeb0036",
   "metadata": {},
   "outputs": [],
   "source": [
    "#the second dataframe\n",
    "df_abnormal"
   ]
  },
  {
   "cell_type": "code",
   "execution_count": null,
   "id": "bf6024c8",
   "metadata": {},
   "outputs": [],
   "source": [
    "#an example of one of the time stamps from above, showing the same user accessing multiple pages within one second\n",
    "df_2[df_2['date_time'] == '2019-03-03 22:52:07'].head()"
   ]
  },
  {
   "cell_type": "markdown",
   "id": "12b73a03",
   "metadata": {},
   "source": [
    "<div class=\"alert alert-block alert-success\">\n",
    "<b>Takeaways:</b>\n",
    " \n",
    "- Every staff request is by the same person, but there are 9 different ip addresses from that person\n",
    "\n",
    "- An overwhelming majority of the data is from users with no information, which I believe means they were not students of Codeup, and a majority of those were not simply people looking at Codeup's homepage\n",
    "\n",
    "- Around 10% of the people to visit Codeups homepage ended up being students\n",
    "\n",
    "- There were at least three individuals who scraped a significant amount of data from the Codeup website over the course of the data's life\n",
    "\n",
    "</div>"
   ]
  },
  {
   "cell_type": "markdown",
   "id": "ca351205",
   "metadata": {},
   "source": [
    "# 5. At some point in 2019, the ability for students and alumni to access both curriculums (web dev to ds, ds to web dev) should have been shut off. Do you see any evidence of that happening? Did it happen before?"
   ]
  },
  {
   "cell_type": "markdown",
   "id": "73d3bfda",
   "metadata": {},
   "source": [
    "<div class=\"alert alert-block alert-success\">\n",
    "<b>Takeaways:</b>\n",
    "\n",
    "*\n",
    "\n",
    "</div>"
   ]
  },
  {
   "cell_type": "markdown",
   "id": "e2257f84",
   "metadata": {},
   "source": [
    "# 6. What topics are grads continuing to reference after graduation and into their jobs (for each program)?"
   ]
  },
  {
   "cell_type": "code",
   "execution_count": null,
   "id": "6ba953c1",
   "metadata": {},
   "outputs": [],
   "source": [
    "# I want to make sure im looking at verifiable students who look like they have graduated\n",
    "# only these programs had queries after graduation.\n",
    "program1,program2,program4 = bw.grad_activity(students)"
   ]
  },
  {
   "cell_type": "markdown",
   "id": "433b327c",
   "metadata": {},
   "source": [
    "#### top refrences for program id 1.0"
   ]
  },
  {
   "cell_type": "code",
   "execution_count": null,
   "id": "bdcd9e6e",
   "metadata": {},
   "outputs": [],
   "source": [
    "# a dataframe which shows the unique pages, with a count of how many times they were accessed students graduation or end date\n",
    "program1"
   ]
  },
  {
   "cell_type": "markdown",
   "id": "6d9f668b",
   "metadata": {},
   "source": [
    "#### top refrences for program id 2.0"
   ]
  },
  {
   "cell_type": "code",
   "execution_count": null,
   "id": "66e5e101",
   "metadata": {},
   "outputs": [],
   "source": [
    "# a dataframe which shows the unique pages, with a count of how many times they were accessed students graduation or end date\n",
    "program2"
   ]
  },
  {
   "cell_type": "markdown",
   "id": "ed1f3498",
   "metadata": {},
   "source": [
    "#### top refrences for program id 4.0"
   ]
  },
  {
   "cell_type": "code",
   "execution_count": null,
   "id": "824a429e",
   "metadata": {},
   "outputs": [],
   "source": [
    "# a dataframe which shows the unique pages, with a count of how many times they were accessed students graduation or end date\n",
    "program4"
   ]
  },
  {
   "cell_type": "markdown",
   "id": "5d515f67",
   "metadata": {},
   "source": [
    "<div class=\"alert alert-block alert-success\">\n",
    "<b>Takeaways on Top Reference Material:</b>\n",
    "\n",
    "* Since this was a short project, these are just snapshots of verifable students who look like the have graduated or had a end date.\n",
    "* I would like to see why program 3.0 had no queries after an end date.\n",
    "\n",
    "</div>"
   ]
  },
  {
   "cell_type": "markdown",
   "id": "146d749b",
   "metadata": {},
   "source": [
    "# 7. Which lessons are least accessed?"
   ]
  },
  {
   "cell_type": "markdown",
   "id": "bf36ba98",
   "metadata": {},
   "source": [
    "<div class=\"alert alert-block alert-success\">\n",
    "<b>Takeaways:</b>\n",
    "\n",
    "*\n",
    "\n",
    "</div>"
   ]
  },
  {
   "cell_type": "markdown",
   "id": "a5d7bf3b",
   "metadata": {},
   "source": [
    "# 8. Anything else I should be aware of?"
   ]
  },
  {
   "cell_type": "markdown",
   "id": "e503fdeb",
   "metadata": {},
   "source": [
    "<div class=\"alert alert-block alert-success\">\n",
    "<b>Takeaways:</b>\n",
    "\n",
    "*\n",
    "\n",
    "</div>"
   ]
  }
 ],
 "metadata": {
  "kernelspec": {
   "display_name": "base",
   "language": "python",
   "name": "python3"
  },
  "language_info": {
   "codemirror_mode": {
    "name": "ipython",
    "version": 3
   },
   "file_extension": ".py",
   "mimetype": "text/x-python",
   "name": "python",
   "nbconvert_exporter": "python",
   "pygments_lexer": "ipython3",
   "version": "3.9.13"
  },
  "toc": {
   "base_numbering": 1,
   "nav_menu": {},
   "number_sections": true,
   "sideBar": true,
   "skip_h1_title": false,
   "title_cell": "Table of Contents",
   "title_sidebar": "Contents",
   "toc_cell": false,
   "toc_position": {},
   "toc_section_display": true,
   "toc_window_display": false
  },
  "vscode": {
   "interpreter": {
    "hash": "38cca0c38332a56087b24af0bc80247f4fced29cb4f7f437d91dc159adec9c4e"
   }
  }
 },
 "nbformat": 4,
 "nbformat_minor": 5
}
