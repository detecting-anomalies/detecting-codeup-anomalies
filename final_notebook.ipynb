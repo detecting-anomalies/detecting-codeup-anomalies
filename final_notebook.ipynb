{
 "cells": [
  {
   "cell_type": "markdown",
   "id": "6630c1d8",
   "metadata": {},
   "source": [
    "# Detecting Codeup Anomalies\n",
    "#### Data Scientiest : Shawn Brown, Stephen Perry, Brandon Navarrete"
   ]
  },
  {
   "cell_type": "code",
   "execution_count": 1,
   "id": "03de654e",
   "metadata": {},
   "outputs": [],
   "source": [
    "# imports\n",
    "import pandas as pd \n",
    "import numpy as np \n",
    "\n",
    "import brandons_wrangle as bw\n",
    "\n",
    "\n",
    "\n"
   ]
  },
  {
   "cell_type": "markdown",
   "id": "d363f93e",
   "metadata": {},
   "source": [
    "# 1. Which lesson appears to attract the most traffic consistently across cohorts (per program)?"
   ]
  },
  {
   "cell_type": "code",
   "execution_count": 2,
   "id": "a9907b44",
   "metadata": {},
   "outputs": [
    {
     "ename": "SyntaxError",
     "evalue": "invalid syntax (3237668273.py, line 1)",
     "output_type": "error",
     "traceback": [
      "\u001b[0;36m  File \u001b[0;32m\"/var/folders/d0/5dr5q0n145vcn3_m9dxy1xq80000gn/T/ipykernel_6005/3237668273.py\"\u001b[0;36m, line \u001b[0;32m1\u001b[0m\n\u001b[0;31m    <div class=\"alert alert-block alert-success\">\u001b[0m\n\u001b[0m    ^\u001b[0m\n\u001b[0;31mSyntaxError\u001b[0m\u001b[0;31m:\u001b[0m invalid syntax\n"
     ]
    }
   ],
   "source": [
    "<div class=\"alert alert-block alert-success\">\n",
    "<b>Takeaways:</b>\n",
    "\n",
    "*\n",
    "\n",
    "</div>"
   ]
  },
  {
   "cell_type": "markdown",
   "id": "6ec85aca",
   "metadata": {},
   "source": [
    "# 2. Is there a cohort that referred to a lesson significantly more than other cohorts seemed to gloss over?"
   ]
  },
  {
   "cell_type": "code",
   "execution_count": null,
   "id": "86403d9a",
   "metadata": {},
   "outputs": [],
   "source": [
    "<div class=\"alert alert-block alert-success\">\n",
    "<b>Takeaways:</b>\n",
    "\n",
    "*\n",
    "\n",
    "</div>"
   ]
  },
  {
   "cell_type": "markdown",
   "id": "0a37491b",
   "metadata": {},
   "source": [
    "# 3. Are there students who, when active, hardly access the curriculum? If so, what information do you have about these students?"
   ]
  },
  {
   "cell_type": "code",
   "execution_count": 2,
   "id": "2b00109a",
   "metadata": {},
   "outputs": [],
   "source": [
    "# Import Brandon's Data\n",
    "navdf = bw.get_logs_data(bw.get_connection)"
   ]
  },
  {
   "cell_type": "code",
   "execution_count": 3,
   "id": "80234bc8",
   "metadata": {},
   "outputs": [],
   "source": [
    "# Prep Brandon's Data, get clean data, student data, and specific student info.\n",
    "navdf, students, page_views_per_student ,student_info = bw.prepare(navdf)"
   ]
  },
  {
   "cell_type": "code",
   "execution_count": 4,
   "id": "2aeb187e",
   "metadata": {},
   "outputs": [
    {
     "data": {
      "text/html": [
       "<div>\n",
       "<style scoped>\n",
       "    .dataframe tbody tr th:only-of-type {\n",
       "        vertical-align: middle;\n",
       "    }\n",
       "\n",
       "    .dataframe tbody tr th {\n",
       "        vertical-align: top;\n",
       "    }\n",
       "\n",
       "    .dataframe thead th {\n",
       "        text-align: right;\n",
       "    }\n",
       "</style>\n",
       "<table border=\"1\" class=\"dataframe\">\n",
       "  <thead>\n",
       "    <tr style=\"text-align: right;\">\n",
       "      <th></th>\n",
       "      <th>pages_accessed</th>\n",
       "    </tr>\n",
       "    <tr>\n",
       "      <th>id</th>\n",
       "      <th></th>\n",
       "    </tr>\n",
       "  </thead>\n",
       "  <tbody>\n",
       "    <tr>\n",
       "      <th>62</th>\n",
       "      <td>4</td>\n",
       "    </tr>\n",
       "    <tr>\n",
       "      <th>137</th>\n",
       "      <td>10</td>\n",
       "    </tr>\n",
       "    <tr>\n",
       "      <th>24</th>\n",
       "      <td>26</td>\n",
       "    </tr>\n",
       "  </tbody>\n",
       "</table>\n",
       "</div>"
      ],
      "text/plain": [
       "     pages_accessed\n",
       "id                 \n",
       "62                4\n",
       "137              10\n",
       "24               26"
      ]
     },
     "execution_count": 4,
     "metadata": {},
     "output_type": "execute_result"
    }
   ],
   "source": [
    "page_views_per_student.sort_values(by = 'pages_accessed').head(3)"
   ]
  },
  {
   "cell_type": "code",
   "execution_count": 5,
   "id": "b47171d6",
   "metadata": {},
   "outputs": [
    {
     "data": {
      "text/html": [
       "<div>\n",
       "<style scoped>\n",
       "    .dataframe tbody tr th:only-of-type {\n",
       "        vertical-align: middle;\n",
       "    }\n",
       "\n",
       "    .dataframe tbody tr th {\n",
       "        vertical-align: top;\n",
       "    }\n",
       "\n",
       "    .dataframe thead th {\n",
       "        text-align: right;\n",
       "    }\n",
       "</style>\n",
       "<table border=\"1\" class=\"dataframe\">\n",
       "  <thead>\n",
       "    <tr style=\"text-align: right;\">\n",
       "      <th></th>\n",
       "      <th>id</th>\n",
       "      <th>cohort</th>\n",
       "      <th>ip</th>\n",
       "      <th>endpoint</th>\n",
       "      <th>program_id</th>\n",
       "      <th>updated_at</th>\n",
       "      <th>created_at</th>\n",
       "      <th>end_date</th>\n",
       "      <th>start_date</th>\n",
       "      <th>name</th>\n",
       "      <th>datetime</th>\n",
       "    </tr>\n",
       "    <tr>\n",
       "      <th>datetime</th>\n",
       "      <th></th>\n",
       "      <th></th>\n",
       "      <th></th>\n",
       "      <th></th>\n",
       "      <th></th>\n",
       "      <th></th>\n",
       "      <th></th>\n",
       "      <th></th>\n",
       "      <th></th>\n",
       "      <th></th>\n",
       "      <th></th>\n",
       "    </tr>\n",
       "  </thead>\n",
       "  <tbody>\n",
       "    <tr>\n",
       "      <th>2018-01-29 13:08:55</th>\n",
       "      <td>62</td>\n",
       "      <td>NaN</td>\n",
       "      <td>70.123.209.40</td>\n",
       "      <td>/</td>\n",
       "      <td>2.0</td>\n",
       "      <td>2020-09-21 18:06:27</td>\n",
       "      <td>2020-09-21 18:06:27</td>\n",
       "      <td>2021-03-30</td>\n",
       "      <td>2020-09-21</td>\n",
       "      <td>Jupiter</td>\n",
       "      <td>2018-01-29 13:08:55</td>\n",
       "    </tr>\n",
       "    <tr>\n",
       "      <th>2018-01-29 13:08:57</th>\n",
       "      <td>62</td>\n",
       "      <td>NaN</td>\n",
       "      <td>70.123.209.40</td>\n",
       "      <td>java-ii</td>\n",
       "      <td>2.0</td>\n",
       "      <td>2020-09-21 18:06:27</td>\n",
       "      <td>2020-09-21 18:06:27</td>\n",
       "      <td>2021-03-30</td>\n",
       "      <td>2020-09-21</td>\n",
       "      <td>Jupiter</td>\n",
       "      <td>2018-01-29 13:08:57</td>\n",
       "    </tr>\n",
       "    <tr>\n",
       "      <th>2018-01-29 13:09:01</th>\n",
       "      <td>62</td>\n",
       "      <td>NaN</td>\n",
       "      <td>70.123.209.40</td>\n",
       "      <td>java-iii</td>\n",
       "      <td>2.0</td>\n",
       "      <td>2020-09-21 18:06:27</td>\n",
       "      <td>2020-09-21 18:06:27</td>\n",
       "      <td>2021-03-30</td>\n",
       "      <td>2020-09-21</td>\n",
       "      <td>Jupiter</td>\n",
       "      <td>2018-01-29 13:09:01</td>\n",
       "    </tr>\n",
       "    <tr>\n",
       "      <th>2018-01-29 13:09:14</th>\n",
       "      <td>62</td>\n",
       "      <td>NaN</td>\n",
       "      <td>70.123.209.40</td>\n",
       "      <td>spring</td>\n",
       "      <td>2.0</td>\n",
       "      <td>2020-09-21 18:06:27</td>\n",
       "      <td>2020-09-21 18:06:27</td>\n",
       "      <td>2021-03-30</td>\n",
       "      <td>2020-09-21</td>\n",
       "      <td>Jupiter</td>\n",
       "      <td>2018-01-29 13:09:14</td>\n",
       "    </tr>\n",
       "  </tbody>\n",
       "</table>\n",
       "</div>"
      ],
      "text/plain": [
       "                     id  cohort             ip  endpoint  program_id  \\\n",
       "datetime                                                               \n",
       "2018-01-29 13:08:55  62     NaN  70.123.209.40         /         2.0   \n",
       "2018-01-29 13:08:57  62     NaN  70.123.209.40   java-ii         2.0   \n",
       "2018-01-29 13:09:01  62     NaN  70.123.209.40  java-iii         2.0   \n",
       "2018-01-29 13:09:14  62     NaN  70.123.209.40    spring         2.0   \n",
       "\n",
       "                              updated_at           created_at    end_date  \\\n",
       "datetime                                                                    \n",
       "2018-01-29 13:08:55  2020-09-21 18:06:27  2020-09-21 18:06:27  2021-03-30   \n",
       "2018-01-29 13:08:57  2020-09-21 18:06:27  2020-09-21 18:06:27  2021-03-30   \n",
       "2018-01-29 13:09:01  2020-09-21 18:06:27  2020-09-21 18:06:27  2021-03-30   \n",
       "2018-01-29 13:09:14  2020-09-21 18:06:27  2020-09-21 18:06:27  2021-03-30   \n",
       "\n",
       "                     start_date     name            datetime  \n",
       "datetime                                                      \n",
       "2018-01-29 13:08:55  2020-09-21  Jupiter 2018-01-29 13:08:55  \n",
       "2018-01-29 13:08:57  2020-09-21  Jupiter 2018-01-29 13:08:57  \n",
       "2018-01-29 13:09:01  2020-09-21  Jupiter 2018-01-29 13:09:01  \n",
       "2018-01-29 13:09:14  2020-09-21  Jupiter 2018-01-29 13:09:14  "
      ]
     },
     "execution_count": 5,
     "metadata": {},
     "output_type": "execute_result"
    }
   ],
   "source": [
    "# take a peak at student 62\n",
    "student_info"
   ]
  },
  {
   "cell_type": "markdown",
   "id": "c54591fc",
   "metadata": {},
   "source": [
    "<div class=\"alert alert-block alert-success\">\n",
    "<b>Takeaways on student 62:</b>\n",
    "\n",
    "* This student started on 2020-09-21 and ended on 2021-03-30, about 6 months.\n",
    "* They accessed the pages in 2018, all within an hour of each other, before they started at Codeup\n",
    "* Was in the the Jupiter cohort\n",
    "* This student was in web Dev and only accessed the Codeup page 4 times. Once on the home page, the java-ii ,java-iii, and spring.\n",
    "* All ip's trace back to San Antonio, Tx\n",
    "\n",
    "</div>"
   ]
  },
  {
   "cell_type": "markdown",
   "id": "1531c4aa",
   "metadata": {},
   "source": [
    "# 4. Is there any suspicious activity, such as users/machines/etc accessing the curriculum who shouldn’t be? Does it appear that any web-scraping is happening? Are there any suspicious IP addresses?"
   ]
  },
  {
   "cell_type": "code",
   "execution_count": null,
   "id": "06825d0e",
   "metadata": {},
   "outputs": [],
   "source": [
    "<div class=\"alert alert-block alert-success\">\n",
    "<b>Takeaways:</b>\n",
    "\n",
    "*\n",
    "\n",
    "</div>"
   ]
  },
  {
   "cell_type": "markdown",
   "id": "ca351205",
   "metadata": {},
   "source": [
    "# 5. At some point in 2019, the ability for students and alumni to access both curriculums (web dev to ds, ds to web dev) should have been shut off. Do you see any evidence of that happening? Did it happen before?"
   ]
  },
  {
   "cell_type": "code",
   "execution_count": null,
   "id": "32ac6bf1",
   "metadata": {},
   "outputs": [],
   "source": [
    "<div class=\"alert alert-block alert-success\">\n",
    "<b>Takeaways:</b>\n",
    "\n",
    "*\n",
    "\n",
    "</div>"
   ]
  },
  {
   "cell_type": "markdown",
   "id": "e2257f84",
   "metadata": {},
   "source": [
    "# 6. What topics are grads continuing to reference after graduation and into their jobs (for each program)?"
   ]
  },
  {
   "cell_type": "code",
   "execution_count": 6,
   "id": "f1d823a9",
   "metadata": {},
   "outputs": [],
   "source": [
    "# I want to make sure im looking at verifiable students who look like they have graduated\n",
    "# only these programs had queries after graduation.\n",
    "program1,program2,program4 = bw.grad_activity(students)"
   ]
  },
  {
   "cell_type": "markdown",
   "id": "433b327c",
   "metadata": {},
   "source": [
    "#### top refrences for program id 1.0"
   ]
  },
  {
   "cell_type": "code",
   "execution_count": 7,
   "id": "28427af8",
   "metadata": {},
   "outputs": [
    {
     "data": {
      "text/html": [
       "<div>\n",
       "<style scoped>\n",
       "    .dataframe tbody tr th:only-of-type {\n",
       "        vertical-align: middle;\n",
       "    }\n",
       "\n",
       "    .dataframe tbody tr th {\n",
       "        vertical-align: top;\n",
       "    }\n",
       "\n",
       "    .dataframe thead th {\n",
       "        text-align: right;\n",
       "    }\n",
       "</style>\n",
       "<table border=\"1\" class=\"dataframe\">\n",
       "  <thead>\n",
       "    <tr style=\"text-align: right;\">\n",
       "      <th></th>\n",
       "      <th>count</th>\n",
       "    </tr>\n",
       "    <tr>\n",
       "      <th>endpoint</th>\n",
       "      <th></th>\n",
       "    </tr>\n",
       "  </thead>\n",
       "  <tbody>\n",
       "    <tr>\n",
       "      <th>classification/overview</th>\n",
       "      <td>584</td>\n",
       "    </tr>\n",
       "    <tr>\n",
       "      <th>javascript-i</th>\n",
       "      <td>605</td>\n",
       "    </tr>\n",
       "    <tr>\n",
       "      <th>/</th>\n",
       "      <td>3513</td>\n",
       "    </tr>\n",
       "  </tbody>\n",
       "</table>\n",
       "</div>"
      ],
      "text/plain": [
       "                         count\n",
       "endpoint                      \n",
       "classification/overview    584\n",
       "javascript-i               605\n",
       "/                         3513"
      ]
     },
     "execution_count": 7,
     "metadata": {},
     "output_type": "execute_result"
    }
   ],
   "source": [
    "# a dataframe which shows the unique pages, with a count of how many times they were accessed students graduation or end date\n",
    "program1"
   ]
  },
  {
   "cell_type": "markdown",
   "id": "6d9f668b",
   "metadata": {},
   "source": [
    "#### top refrences for program id 2.0"
   ]
  },
  {
   "cell_type": "code",
   "execution_count": 8,
   "id": "9aad0829",
   "metadata": {},
   "outputs": [
    {
     "data": {
      "text/html": [
       "<div>\n",
       "<style scoped>\n",
       "    .dataframe tbody tr th:only-of-type {\n",
       "        vertical-align: middle;\n",
       "    }\n",
       "\n",
       "    .dataframe tbody tr th {\n",
       "        vertical-align: top;\n",
       "    }\n",
       "\n",
       "    .dataframe thead th {\n",
       "        text-align: right;\n",
       "    }\n",
       "</style>\n",
       "<table border=\"1\" class=\"dataframe\">\n",
       "  <thead>\n",
       "    <tr style=\"text-align: right;\">\n",
       "      <th></th>\n",
       "      <th>count</th>\n",
       "    </tr>\n",
       "    <tr>\n",
       "      <th>endpoint</th>\n",
       "      <th></th>\n",
       "    </tr>\n",
       "  </thead>\n",
       "  <tbody>\n",
       "    <tr>\n",
       "      <th>spring</th>\n",
       "      <td>218</td>\n",
       "    </tr>\n",
       "    <tr>\n",
       "      <th>/</th>\n",
       "      <td>361</td>\n",
       "    </tr>\n",
       "    <tr>\n",
       "      <th>index.html</th>\n",
       "      <td>373</td>\n",
       "    </tr>\n",
       "  </tbody>\n",
       "</table>\n",
       "</div>"
      ],
      "text/plain": [
       "            count\n",
       "endpoint         \n",
       "spring        218\n",
       "/             361\n",
       "index.html    373"
      ]
     },
     "execution_count": 8,
     "metadata": {},
     "output_type": "execute_result"
    }
   ],
   "source": [
    "# a dataframe which shows the unique pages, with a count of how many times they were accessed students graduation or end date\n",
    "program2"
   ]
  },
  {
   "cell_type": "markdown",
   "id": "ed1f3498",
   "metadata": {},
   "source": [
    "#### top refrences for program id 4.0"
   ]
  },
  {
   "cell_type": "code",
   "execution_count": 9,
   "id": "2482a956",
   "metadata": {},
   "outputs": [
    {
     "data": {
      "text/html": [
       "<div>\n",
       "<style scoped>\n",
       "    .dataframe tbody tr th:only-of-type {\n",
       "        vertical-align: middle;\n",
       "    }\n",
       "\n",
       "    .dataframe tbody tr th {\n",
       "        vertical-align: top;\n",
       "    }\n",
       "\n",
       "    .dataframe thead th {\n",
       "        text-align: right;\n",
       "    }\n",
       "</style>\n",
       "<table border=\"1\" class=\"dataframe\">\n",
       "  <thead>\n",
       "    <tr style=\"text-align: right;\">\n",
       "      <th></th>\n",
       "      <th>count</th>\n",
       "    </tr>\n",
       "    <tr>\n",
       "      <th>endpoint</th>\n",
       "      <th></th>\n",
       "    </tr>\n",
       "  </thead>\n",
       "  <tbody>\n",
       "    <tr>\n",
       "      <th>javascript-i</th>\n",
       "      <td>46</td>\n",
       "    </tr>\n",
       "    <tr>\n",
       "      <th>spring</th>\n",
       "      <td>68</td>\n",
       "    </tr>\n",
       "    <tr>\n",
       "      <th>/</th>\n",
       "      <td>151</td>\n",
       "    </tr>\n",
       "  </tbody>\n",
       "</table>\n",
       "</div>"
      ],
      "text/plain": [
       "              count\n",
       "endpoint           \n",
       "javascript-i     46\n",
       "spring           68\n",
       "/               151"
      ]
     },
     "execution_count": 9,
     "metadata": {},
     "output_type": "execute_result"
    }
   ],
   "source": [
    "# a dataframe which shows the unique pages, with a count of how many times they were accessed students graduation or end date\n",
    "program4"
   ]
  },
  {
   "cell_type": "markdown",
   "id": "5d515f67",
   "metadata": {},
   "source": [
    "<div class=\"alert alert-block alert-success\">\n",
    "<b>Takeaways on Top Reference Material:</b>\n",
    "\n",
    "* Since this was a short project, these are just snapshots of verifable students who look like the have graduated or had a end date.\n",
    "* I would like to see why program 3.0 had no queries after an end date.\n",
    "\n",
    "</div>"
   ]
  },
  {
   "cell_type": "markdown",
   "id": "146d749b",
   "metadata": {},
   "source": [
    "# 7. Which lessons are least accessed?"
   ]
  },
  {
   "cell_type": "code",
   "execution_count": null,
   "id": "ed8fe984",
   "metadata": {},
   "outputs": [],
   "source": [
    "<div class=\"alert alert-block alert-success\">\n",
    "<b>Takeaways:</b>\n",
    "\n",
    "*\n",
    "\n",
    "</div>"
   ]
  },
  {
   "cell_type": "markdown",
   "id": "a5d7bf3b",
   "metadata": {},
   "source": [
    "# 8. Anything else I should be aware of?"
   ]
  },
  {
   "cell_type": "code",
   "execution_count": null,
   "id": "e08742c3",
   "metadata": {},
   "outputs": [],
   "source": [
    "<div class=\"alert alert-block alert-success\">\n",
    "<b>Takeaways:</b>\n",
    "\n",
    "*\n",
    "\n",
    "</div>"
   ]
  }
 ],
 "metadata": {
  "kernelspec": {
   "display_name": "Python 3 (ipykernel)",
   "language": "python",
   "name": "python3"
  },
  "language_info": {
   "codemirror_mode": {
    "name": "ipython",
    "version": 3
   },
   "file_extension": ".py",
   "mimetype": "text/x-python",
   "name": "python",
   "nbconvert_exporter": "python",
   "pygments_lexer": "ipython3",
   "version": "3.9.13"
  }
 },
 "nbformat": 4,
 "nbformat_minor": 5
}
