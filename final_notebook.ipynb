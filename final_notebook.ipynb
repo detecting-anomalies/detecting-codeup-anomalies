{
 "cells": [
  {
   "cell_type": "markdown",
   "id": "6630c1d8",
   "metadata": {},
   "source": [
    "# Detecting Codeup Anomalies\n",
    "#### Data Scientiest : Shawn Brown, Stephen Perry, Brandon Navarrete"
   ]
  },
  {
   "cell_type": "code",
   "execution_count": 2,
   "id": "03de654e",
   "metadata": {},
   "outputs": [],
   "source": [
    "# imports\n",
    "import pandas as pd \n",
    "import numpy as np \n",
    "\n",
    "\n",
    "\n"
   ]
  },
  {
   "cell_type": "markdown",
   "id": "d363f93e",
   "metadata": {},
   "source": [
    "# 1. Which lesson appears to attract the most traffic consistently across cohorts (per program)?"
   ]
  },
  {
   "cell_type": "code",
   "execution_count": null,
   "id": "a9907b44",
   "metadata": {},
   "outputs": [],
   "source": [
    "<div class=\"alert alert-block alert-success\">\n",
    "<b>Takeaways:</b>\n",
    "\n",
    "*\n",
    "\n",
    "</div>"
   ]
  },
  {
   "cell_type": "markdown",
   "id": "6ec85aca",
   "metadata": {},
   "source": [
    "# 2. Is there a cohort that referred to a lesson significantly more than other cohorts seemed to gloss over?"
   ]
  },
  {
   "cell_type": "code",
   "execution_count": null,
   "id": "86403d9a",
   "metadata": {},
   "outputs": [],
   "source": [
    "<div class=\"alert alert-block alert-success\">\n",
    "<b>Takeaways:</b>\n",
    "\n",
    "*\n",
    "\n",
    "</div>"
   ]
  },
  {
   "cell_type": "markdown",
   "id": "0a37491b",
   "metadata": {},
   "source": [
    "# 3. Are there students who, when active, hardly access the curriculum? If so, what information do you have about these students?"
   ]
  },
  {
   "cell_type": "code",
   "execution_count": null,
   "id": "5cb31ea6",
   "metadata": {},
   "outputs": [],
   "source": [
    "<div class=\"alert alert-block alert-success\">\n",
    "<b>Takeaways:</b>\n",
    "\n",
    "*\n",
    "\n",
    "</div>"
   ]
  },
  {
   "cell_type": "markdown",
   "id": "1531c4aa",
   "metadata": {},
   "source": [
    "# 4. Is there any suspicious activity, such as users/machines/etc accessing the curriculum who shouldn’t be? Does it appear that any web-scraping is happening? Are there any suspicious IP addresses?"
   ]
  },
  {
   "cell_type": "code",
   "execution_count": null,
   "id": "06825d0e",
   "metadata": {},
   "outputs": [],
   "source": [
    "<div class=\"alert alert-block alert-success\">\n",
    "<b>Takeaways:</b>\n",
    "\n",
    "*\n",
    "\n",
    "</div>"
   ]
  },
  {
   "cell_type": "markdown",
   "id": "ca351205",
   "metadata": {},
   "source": [
    "# 5. At some point in 2019, the ability for students and alumni to access both curriculums (web dev to ds, ds to web dev) should have been shut off. Do you see any evidence of that happening? Did it happen before?"
   ]
  },
  {
   "cell_type": "code",
   "execution_count": null,
   "id": "32ac6bf1",
   "metadata": {},
   "outputs": [],
   "source": [
    "<div class=\"alert alert-block alert-success\">\n",
    "<b>Takeaways:</b>\n",
    "\n",
    "*\n",
    "\n",
    "</div>"
   ]
  },
  {
   "cell_type": "markdown",
   "id": "e2257f84",
   "metadata": {},
   "source": [
    "# 6. What topics are grads continuing to reference after graduation and into their jobs (for each program)?"
   ]
  },
  {
   "cell_type": "code",
   "execution_count": null,
   "id": "06a01223",
   "metadata": {},
   "outputs": [],
   "source": [
    "<div class=\"alert alert-block alert-success\">\n",
    "<b>Takeaways:</b>\n",
    "\n",
    "*\n",
    "\n",
    "</div>"
   ]
  },
  {
   "cell_type": "markdown",
   "id": "146d749b",
   "metadata": {},
   "source": [
    "# 7. Which lessons are least accessed?"
   ]
  },
  {
   "cell_type": "code",
   "execution_count": null,
   "id": "ed8fe984",
   "metadata": {},
   "outputs": [],
   "source": [
    "<div class=\"alert alert-block alert-success\">\n",
    "<b>Takeaways:</b>\n",
    "\n",
    "*\n",
    "\n",
    "</div>"
   ]
  },
  {
   "cell_type": "markdown",
   "id": "a5d7bf3b",
   "metadata": {},
   "source": [
    "# 8. Anything else I should be aware of?"
   ]
  },
  {
   "cell_type": "code",
   "execution_count": null,
   "id": "e08742c3",
   "metadata": {},
   "outputs": [],
   "source": [
    "<div class=\"alert alert-block alert-success\">\n",
    "<b>Takeaways:</b>\n",
    "\n",
    "*\n",
    "\n",
    "</div>"
   ]
  }
 ],
 "metadata": {
  "kernelspec": {
   "display_name": "Python 3 (ipykernel)",
   "language": "python",
   "name": "python3"
  },
  "language_info": {
   "codemirror_mode": {
    "name": "ipython",
    "version": 3
   },
   "file_extension": ".py",
   "mimetype": "text/x-python",
   "name": "python",
   "nbconvert_exporter": "python",
   "pygments_lexer": "ipython3",
   "version": "3.9.13"
  }
 },
 "nbformat": 4,
 "nbformat_minor": 5
}
